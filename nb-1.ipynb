{
 "cells": [
  {
   "cell_type": "markdown",
   "metadata": {},
   "source": [
    "# Deep Learning for Social Scientists\n",
    "\n",
    "### PhD Course, University of Bergen"
   ]
  },
  {
   "cell_type": "markdown",
   "metadata": {},
   "source": [
    "## 1D Linear Regression"
   ]
  },
  {
   "cell_type": "markdown",
   "metadata": {},
   "source": [
    "The 1D linear regression model describes the relationship between input $x$ and output $y$ as a straight line,\n",
    "$$\n",
    "\\begin{split}\n",
    "y &= f[x, \\boldsymbol{\\phi}] \\\\\n",
    "&= \\phi_{0} + \\phi_{1}x.\n",
    "\\end{split}\n",
    "$$\n",
    "\n",
    "The model parameters are $\\boldsymbol{\\phi} = [\\phi_{0}, \\phi_{1}]^{T}$.\n",
    "\n",
    "Our goal is to find the parameters $\\hat{\\boldsymbol{\\phi}}$ that minimize the least-squares loss function $L[\\boldsymbol{\\phi}]$,\n",
    "$$\n",
    "\\begin{split}\n",
    "\\hat{\\boldsymbol{\\phi}} &= \\underset{\\boldsymbol{\\phi}}{\\mathrm{argmin}}\\big[L[\\boldsymbol{\\phi}]\\big] \\\\\n",
    "&= \\underset{\\boldsymbol{\\phi}}{\\mathrm{argmin}}\\Bigg[\\sum_{i = 1}^{N}(f[x_{i}, \\boldsymbol{\\phi}] - y_{i})^{2}\\Bigg] \\\\\n",
    "&= \\underset{\\boldsymbol{\\phi}}{\\mathrm{argmin}}\\Bigg[\\sum_{i = 1}^{N}(\\phi_{0} + \\phi_{1}x_{i} - y_{i})^{2}\\Bigg].\n",
    "\\end{split}\n",
    "$$"
   ]
  },
  {
   "cell_type": "markdown",
   "metadata": {},
   "source": [
    "### Solution 1:"
   ]
  },
  {
   "cell_type": "code",
   "execution_count": 1,
   "metadata": {},
   "outputs": [
    {
     "data": {
      "text/plain": [
       "3"
      ]
     },
     "execution_count": 1,
     "metadata": {},
     "output_type": "execute_result"
    }
   ],
   "source": [
    "3"
   ]
  }
 ],
 "metadata": {
  "kernelspec": {
   "display_name": ".venv",
   "language": "python",
   "name": "python3"
  },
  "language_info": {
   "codemirror_mode": {
    "name": "ipython",
    "version": 3
   },
   "file_extension": ".py",
   "mimetype": "text/x-python",
   "name": "python",
   "nbconvert_exporter": "python",
   "pygments_lexer": "ipython3",
   "version": "3.12.2"
  }
 },
 "nbformat": 4,
 "nbformat_minor": 2
}
